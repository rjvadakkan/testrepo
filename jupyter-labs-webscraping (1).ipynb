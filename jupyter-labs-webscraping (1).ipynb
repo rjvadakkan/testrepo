{
 "cells": [
  {
   "cell_type": "markdown",
   "metadata": {},
   "source": [
    "<p style=\"text-align:center\">\n",
    "    <a href=\"https://skills.network\" target=\"_blank\">\n",
    "    <img src=\"https://cf-courses-data.s3.us.cloud-object-storage.appdomain.cloud/assets/logos/SN_web_lightmode.png\" width=\"200\" alt=\"Skills Network Logo\">\n",
    "    </a>\n",
    "</p>\n"
   ]
  },
  {
   "cell_type": "markdown",
   "metadata": {},
   "source": [
    "# **Space X  Falcon 9 First Stage Landing Prediction**\n"
   ]
  },
  {
   "cell_type": "markdown",
   "metadata": {},
   "source": [
    "## Web scraping Falcon 9 and Falcon Heavy Launches Records from Wikipedia\n"
   ]
  },
  {
   "cell_type": "markdown",
   "metadata": {},
   "source": [
    "Estimated time needed: **40** minutes\n"
   ]
  },
  {
   "cell_type": "markdown",
   "metadata": {},
   "source": [
    "In this lab, you will be performing web scraping to collect Falcon 9 historical launch records from a Wikipedia page titled `List of Falcon 9 and Falcon Heavy launches`\n",
    "\n",
    "https://en.wikipedia.org/wiki/List_of_Falcon_9_and_Falcon_Heavy_launches\n"
   ]
  },
  {
   "cell_type": "markdown",
   "metadata": {},
   "source": [
    "![](https://cf-courses-data.s3.us.cloud-object-storage.appdomain.cloud/IBM-DS0321EN-SkillsNetwork/labs/module_1_L2/images/Falcon9_rocket_family.svg)\n"
   ]
  },
  {
   "cell_type": "markdown",
   "metadata": {},
   "source": [
    "Falcon 9 first stage will land successfully\n"
   ]
  },
  {
   "cell_type": "markdown",
   "metadata": {},
   "source": [
    "![](https://cf-courses-data.s3.us.cloud-object-storage.appdomain.cloud/IBMDeveloperSkillsNetwork-DS0701EN-SkillsNetwork/api/Images/landing_1.gif)\n"
   ]
  },
  {
   "cell_type": "markdown",
   "metadata": {},
   "source": [
    "Several examples of an unsuccessful landing are shown here:\n"
   ]
  },
  {
   "cell_type": "markdown",
   "metadata": {},
   "source": [
    "![](https://cf-courses-data.s3.us.cloud-object-storage.appdomain.cloud/IBMDeveloperSkillsNetwork-DS0701EN-SkillsNetwork/api/Images/crash.gif)\n"
   ]
  },
  {
   "cell_type": "markdown",
   "metadata": {},
   "source": [
    "More specifically, the launch records are stored in a HTML table shown below:\n"
   ]
  },
  {
   "cell_type": "markdown",
   "metadata": {},
   "source": [
    "![](https://cf-courses-data.s3.us.cloud-object-storage.appdomain.cloud/IBM-DS0321EN-SkillsNetwork/labs/module_1_L2/images/falcon9-launches-wiki.png)\n"
   ]
  },
  {
   "cell_type": "markdown",
   "metadata": {},
   "source": [
    "  ## Objectives\n",
    "Web scrap Falcon 9 launch records with `BeautifulSoup`: \n",
    "- Extract a Falcon 9 launch records HTML table from Wikipedia\n",
    "- Parse the table and convert it into a Pandas data frame\n"
   ]
  },
  {
   "cell_type": "markdown",
   "metadata": {},
   "source": [
    "First let's import required packages for this lab\n"
   ]
  },
  {
   "cell_type": "code",
   "execution_count": 43,
   "metadata": {
    "tags": []
   },
   "outputs": [
    {
     "name": "stdout",
     "output_type": "stream",
     "text": [
      "Requirement already satisfied: beautifulsoup4 in /home/jupyterlab/conda/envs/python/lib/python3.7/site-packages (4.11.1)\n",
      "Requirement already satisfied: soupsieve>1.2 in /home/jupyterlab/conda/envs/python/lib/python3.7/site-packages (from beautifulsoup4) (2.3.2.post1)\n",
      "Requirement already satisfied: requests in /home/jupyterlab/conda/envs/python/lib/python3.7/site-packages (2.29.0)\n",
      "Requirement already satisfied: charset-normalizer<4,>=2 in /home/jupyterlab/conda/envs/python/lib/python3.7/site-packages (from requests) (3.1.0)\n",
      "Requirement already satisfied: idna<4,>=2.5 in /home/jupyterlab/conda/envs/python/lib/python3.7/site-packages (from requests) (3.4)\n",
      "Requirement already satisfied: urllib3<1.27,>=1.21.1 in /home/jupyterlab/conda/envs/python/lib/python3.7/site-packages (from requests) (1.26.15)\n",
      "Requirement already satisfied: certifi>=2017.4.17 in /home/jupyterlab/conda/envs/python/lib/python3.7/site-packages (from requests) (2023.5.7)\n",
      "Requirement already satisfied: beautifulsoup4 in /home/jupyterlab/conda/envs/python/lib/python3.7/site-packages (4.11.1)\n",
      "Requirement already satisfied: requests in /home/jupyterlab/conda/envs/python/lib/python3.7/site-packages (2.29.0)\n",
      "Requirement already satisfied: soupsieve>1.2 in /home/jupyterlab/conda/envs/python/lib/python3.7/site-packages (from beautifulsoup4) (2.3.2.post1)\n",
      "Requirement already satisfied: charset-normalizer<4,>=2 in /home/jupyterlab/conda/envs/python/lib/python3.7/site-packages (from requests) (3.1.0)\n",
      "Requirement already satisfied: idna<4,>=2.5 in /home/jupyterlab/conda/envs/python/lib/python3.7/site-packages (from requests) (3.4)\n",
      "Requirement already satisfied: urllib3<1.27,>=1.21.1 in /home/jupyterlab/conda/envs/python/lib/python3.7/site-packages (from requests) (1.26.15)\n",
      "Requirement already satisfied: certifi>=2017.4.17 in /home/jupyterlab/conda/envs/python/lib/python3.7/site-packages (from requests) (2023.5.7)\n"
     ]
    }
   ],
   "source": [
    "!pip3 install beautifulsoup4\n",
    "!pip3 install requests\n",
    "import requests\n",
    "from bs4 import BeautifulSoup\n",
    "import pandas as pd\n",
    "wiki_url = \"https://en.wikipedia.org/wiki/List_of_Falcon_9_and_Falcon_Heavy_launches\"\n",
    "html_data = requests.get(wiki_url).text\n",
    "soup = BeautifulSoup(html_data, \"html.parser\")\n",
    "\n",
    "!pip3 install beautifulsoup4 requests\n"
   ]
  },
  {
   "cell_type": "code",
   "execution_count": 46,
   "metadata": {
    "tags": []
   },
   "outputs": [],
   "source": [
    "import sys\n",
    "\n",
    "import requests\n",
    "from bs4 import BeautifulSoup\n",
    "import re\n",
    "import unicodedata\n",
    "import pandas as pd\n"
   ]
  },
  {
   "cell_type": "markdown",
   "metadata": {},
   "source": [
    "and we will provide some helper functions for you to process web scraped HTML table\n"
   ]
  },
  {
   "cell_type": "code",
   "execution_count": 50,
   "metadata": {
    "tags": []
   },
   "outputs": [],
   "source": [
    "def date_time(table_cell):\n",
    "    \"\"\"\n",
    "    Return (date, time) extracted from the first table cell of a row.\n",
    "    Safe: returns ('', '') if nothing found.\n",
    "    \"\"\"\n",
    "    try:\n",
    "        texts = [t.strip() for t in table_cell.strings if t.strip()]\n",
    "        if len(texts) >= 2:\n",
    "            return texts[0], texts[1]\n",
    "        elif len(texts) == 1:\n",
    "            # sometimes date and time appear combined or separated by newline\n",
    "            parts = texts[0].split()\n",
    "            # fallback: return whole text as date, empty time\n",
    "            return texts[0], ''\n",
    "        else:\n",
    "            return '', ''\n",
    "    except Exception:\n",
    "        return '', ''\n",
    "\n",
    "def booster_version(table_cell):\n",
    "    \"\"\"\n",
    "    Return booster version text from its cell.\n",
    "    We remove <sup>, <a>, <small> tags to avoid footnote text.\n",
    "    \"\"\"\n",
    "    try:\n",
    "        # remove tags that pollute the text\n",
    "        for t in table_cell.find_all(['sup','small']):\n",
    "            t.extract()\n",
    "        txt = table_cell.get_text(\" \", strip=True)\n",
    "        return txt\n",
    "    except Exception:\n",
    "        return ''\n",
    "\n",
    "def landing_status(table_cell):\n",
    "    \"\"\"Return first meaningful text from booster landing cell.\"\"\"\n",
    "    try:\n",
    "        txt = table_cell.get_text(\" \", strip=True)\n",
    "        return txt\n",
    "    except Exception:\n",
    "        return ''\n",
    "\n",
    "def get_mass(table_cell):\n",
    "    \"\"\"\n",
    "    Extract numeric mass in kg as a string without 'kg' (e.g. \"5420\").\n",
    "    Return '' if not found.\n",
    "    \"\"\"\n",
    "    try:\n",
    "        s = unicodedata.normalize(\"NFKD\", table_cell.get_text(\" \", strip=True))\n",
    "        m = re.search(r'([0-9\\.,]+)\\s*kg', s)\n",
    "        if m:\n",
    "            return m.group(1).replace(',', '')\n",
    "        else:\n",
    "            return ''\n",
    "    except Exception:\n",
    "        return ''\n",
    "\n",
    "def extract_column_from_header(th_tag):\n",
    "    \"\"\"\n",
    "    Extract a clean column header from a <th> element.\n",
    "    Returns None for empty/digit-only headers.\n",
    "    \"\"\"\n",
    "    try:\n",
    "        # remove tags that create noise\n",
    "        for tag in th_tag.find_all(['sup','a','br']):\n",
    "            tag.extract()\n",
    "        name = th_tag.get_text(\" \", strip=True)\n",
    "        if name and not name.strip().isdigit():\n",
    "            return name.strip()\n",
    "        return None\n",
    "    except Exception:\n",
    "        return None"
   ]
  },
  {
   "cell_type": "markdown",
   "metadata": {},
   "source": [
    "To keep the lab tasks consistent, you will be asked to scrape the data from a snapshot of the  `List of Falcon 9 and Falcon Heavy launches` Wikipage updated on\n",
    "`9th June 2021`\n"
   ]
  },
  {
   "cell_type": "code",
   "execution_count": 53,
   "metadata": {
    "tags": []
   },
   "outputs": [],
   "source": [
    "static_url = \"https://en.wikipedia.org/w/index.php?title=List_of_Falcon_9_and_Falcon_Heavy_launches&oldid=1027686922\"\n",
    "\n",
    "headers = {\n",
    "    \"User-Agent\": \"Mozilla/5.0 (Windows NT 10.0; Win64; x64) \"\n",
    "                  \"AppleWebKit/537.36 (KHTML, like Gecko) \"\n",
    "                  \"Chrome/91.0.4472.124 Safari/537.36\"\n",
    "}\n"
   ]
  },
  {
   "cell_type": "markdown",
   "metadata": {},
   "source": [
    "Next, request the HTML page from the above URL and get a `response` object\n"
   ]
  },
  {
   "cell_type": "markdown",
   "metadata": {},
   "source": [
    "### TASK 1: Request the Falcon9 Launch Wiki page from its URL\n"
   ]
  },
  {
   "cell_type": "markdown",
   "metadata": {},
   "source": [
    "First, let's perform an HTTP GET method to request the Falcon9 Launch HTML page, as an HTTP response.\n"
   ]
  },
  {
   "cell_type": "code",
   "execution_count": 56,
   "metadata": {
    "tags": []
   },
   "outputs": [],
   "source": [
    "# use requests.get() method with the provided static_url and headers\n",
    "# assign the response to a object\n",
    "wiki_url = \"https://en.wikipedia.org/wiki/List_of_Falcon_9_and_Falcon_Heavy_launches\"\n",
    "html_data = requests.get(wiki_url).text\n",
    "soup = BeautifulSoup(html_data, \"html.parser\")\n",
    "\n",
    "resp = requests.get(static_url, headers=headers, timeout=15)\n",
    "if resp.status_code != 200:\n",
    "    raise RuntimeError(f\"Request failed: status code {resp.status_code}\")\n",
    "html_data = resp.text\n",
    "soup = BeautifulSoup(html_data, \"html.parser\")"
   ]
  },
  {
   "cell_type": "markdown",
   "metadata": {},
   "source": [
    "Create a `BeautifulSoup` object from the HTML `response`\n"
   ]
  },
  {
   "cell_type": "code",
   "execution_count": 25,
   "metadata": {
    "tags": []
   },
   "outputs": [],
   "source": [
    "# Use BeautifulSoup() to create a BeautifulSoup object from a response text content\n",
    "\n"
   ]
  },
  {
   "cell_type": "markdown",
   "metadata": {},
   "source": [
    "Print the page title to verify if the `BeautifulSoup` object was created properly \n"
   ]
  },
  {
   "cell_type": "code",
   "execution_count": 55,
   "metadata": {
    "tags": []
   },
   "outputs": [
    {
     "name": "stdout",
     "output_type": "stream",
     "text": [
      "Page title: List of Falcon 9 and Falcon Heavy launches - Wikipedia\n"
     ]
    }
   ],
   "source": [
    "# Use soup.title attribute\n",
    "print(\"Page title:\", soup.title.string.strip())"
   ]
  },
  {
   "cell_type": "markdown",
   "metadata": {},
   "source": [
    "### TASK 2: Extract all column/variable names from the HTML table header\n"
   ]
  },
  {
   "cell_type": "markdown",
   "metadata": {},
   "source": [
    "Next, we want to collect all relevant column names from the HTML table header\n"
   ]
  },
  {
   "cell_type": "markdown",
   "metadata": {},
   "source": [
    "Let's try to find all tables on the wiki page first. If you need to refresh your memory about `BeautifulSoup`, please check the external reference link towards the end of this lab\n"
   ]
  },
  {
   "cell_type": "code",
   "execution_count": 32,
   "metadata": {
    "tags": []
   },
   "outputs": [],
   "source": [
    "# Use the find_all function in the BeautifulSoup object, with element type `table`\n",
    "# Assign the result to a list called `html_tables`\n"
   ]
  },
  {
   "cell_type": "markdown",
   "metadata": {},
   "source": [
    "Starting from the third table is our target table contains the actual launch records.\n"
   ]
  },
  {
   "cell_type": "code",
   "execution_count": 59,
   "metadata": {
    "tags": []
   },
   "outputs": [
    {
     "name": "stdout",
     "output_type": "stream",
     "text": [
      "Number of wikitable plainrowheaders collapsible tables found: 9\n",
      "Extracted column names (example): ['Flight No.', 'Date and time ( )', 'Launch site', 'Payload', 'Payload mass', 'Orbit', 'Customer', 'Launch outcome']\n"
     ]
    }
   ],
   "source": [
    "# Let's print the third table and check its content\n",
    "\n",
    "\n",
    "html_tables = soup.find_all('table', class_='wikitable plainrowheaders collapsible')\n",
    "print(\"Number of wikitable plainrowheaders collapsible tables found:\", len(html_tables))\n",
    "\n",
    "# inspect the 3rd table (index 2)\n",
    "first_launch_table = html_tables[2]\n",
    "\n",
    "# extract column names from its <th> elements\n",
    "column_names = []\n",
    "for th in first_launch_table.find_all('th'):\n",
    "    name = extract_column_from_header(th)\n",
    "    if name is not None and len(name) > 0:\n",
    "        column_names.append(name)\n",
    "\n",
    "print(\"Extracted column names (example):\", column_names)\n",
    "\n"
   ]
  },
  {
   "cell_type": "markdown",
   "metadata": {},
   "source": [
    "You should able to see the columns names embedded in the table header elements `<th>` as follows:\n"
   ]
  },
  {
   "cell_type": "markdown",
   "metadata": {},
   "source": [
    "```\n",
    "<tr>\n",
    "<th scope=\"col\">Flight No.\n",
    "</th>\n",
    "<th scope=\"col\">Date and<br/>time (<a href=\"/wiki/Coordinated_Universal_Time\" title=\"Coordinated Universal Time\">UTC</a>)\n",
    "</th>\n",
    "<th scope=\"col\"><a href=\"/wiki/List_of_Falcon_9_first-stage_boosters\" title=\"List of Falcon 9 first-stage boosters\">Version,<br/>Booster</a> <sup class=\"reference\" id=\"cite_ref-booster_11-0\"><a href=\"#cite_note-booster-11\">[b]</a></sup>\n",
    "</th>\n",
    "<th scope=\"col\">Launch site\n",
    "</th>\n",
    "<th scope=\"col\">Payload<sup class=\"reference\" id=\"cite_ref-Dragon_12-0\"><a href=\"#cite_note-Dragon-12\">[c]</a></sup>\n",
    "</th>\n",
    "<th scope=\"col\">Payload mass\n",
    "</th>\n",
    "<th scope=\"col\">Orbit\n",
    "</th>\n",
    "<th scope=\"col\">Customer\n",
    "</th>\n",
    "<th scope=\"col\">Launch<br/>outcome\n",
    "</th>\n",
    "<th scope=\"col\"><a href=\"/wiki/Falcon_9_first-stage_landing_tests\" title=\"Falcon 9 first-stage landing tests\">Booster<br/>landing</a>\n",
    "</th></tr>\n",
    "```\n"
   ]
  },
  {
   "cell_type": "markdown",
   "metadata": {},
   "source": [
    "Next, we just need to iterate through the `<th>` elements and apply the provided `extract_column_from_header()` to extract column name one by one\n"
   ]
  },
  {
   "cell_type": "code",
   "execution_count": 61,
   "metadata": {
    "tags": []
   },
   "outputs": [],
   "source": [
    "column_names = []\n",
    "\n",
    "# Apply find_all() function with `th` element on first_launch_table\n",
    "# Iterate each th element and apply the provided extract_column_from_header() to get a column name\n",
    "# Append the Non-empty column name (`if name is not None and len(name) > 0`) into a list called column_names\n",
    "\n",
    "launch_dict = {\n",
    "    'Flight No.': [],\n",
    "    'Date': [],\n",
    "    'Time': [],\n",
    "    'Version Booster': [],\n",
    "    'Launch site': [],\n",
    "    'Payload': [],\n",
    "    'Payload mass': [],\n",
    "    'Orbit': [],\n",
    "    'Customer': [],\n",
    "    'Launch outcome': [],\n",
    "    'Booster landing': []\n",
    "}\n"
   ]
  },
  {
   "cell_type": "markdown",
   "metadata": {},
   "source": [
    "Check the extracted column names\n"
   ]
  },
  {
   "cell_type": "code",
   "execution_count": 62,
   "metadata": {
    "tags": []
   },
   "outputs": [
    {
     "name": "stdout",
     "output_type": "stream",
     "text": [
      "[]\n"
     ]
    }
   ],
   "source": [
    "print(column_names)"
   ]
  },
  {
   "cell_type": "markdown",
   "metadata": {},
   "source": [
    "## TASK 3: Create a data frame by parsing the launch HTML tables\n"
   ]
  },
  {
   "cell_type": "markdown",
   "metadata": {},
   "source": [
    "We will create an empty dictionary with keys from the extracted column names in the previous task. Later, this dictionary will be converted into a Pandas dataframe\n"
   ]
  },
  {
   "cell_type": "code",
   "execution_count": 63,
   "metadata": {
    "tags": []
   },
   "outputs": [
    {
     "name": "stdout",
     "output_type": "stream",
     "text": [
      "Rows extracted: 121\n"
     ]
    }
   ],
   "source": [
    "launch_dict= dict.fromkeys(column_names)\n",
    "\n",
    "# Remove an irrelvant column\n",
    "\n",
    "\n",
    "# Let's initial the launch_dict with each value to be an empty list\n",
    "launch_dict['Flight No.'] = []\n",
    "launch_dict['Launch site'] = []\n",
    "launch_dict['Payload'] = []\n",
    "launch_dict['Payload mass'] = []\n",
    "launch_dict['Orbit'] = []\n",
    "launch_dict['Customer'] = []\n",
    "launch_dict['Launch outcome'] = []\n",
    "# Added some new columns\n",
    "launch_dict['Version Booster']=[]\n",
    "launch_dict['Booster landing']=[]\n",
    "launch_dict['Date']=[]\n",
    "launch_dict['Time']=[]\n",
    "\n",
    "extracted_row = 0\n",
    "\n",
    "for table_number, table in enumerate(html_tables):\n",
    "    for rows in table.find_all(\"tr\"):\n",
    "        th = rows.find('th')\n",
    "        flight_number = None\n",
    "        if th:\n",
    "            text = th.get_text(strip=True)\n",
    "            # sometimes there are additional characters; keep only pure digits as flights\n",
    "            if text and text.split()[0].isdigit():\n",
    "                flight_number = text.split()[0]\n",
    "\n",
    "        if flight_number:\n",
    "            tds = rows.find_all('td')\n",
    "            # ensure we have enough cells (some rows are headings or notes)\n",
    "            if len(tds) < 9:\n",
    "                # skip unexpected row layout\n",
    "                continue\n",
    "\n",
    "            extracted_row += 1\n",
    "            # Flight No.\n",
    "            launch_dict['Flight No.'].append(flight_number)\n",
    "\n",
    "            # Date & Time\n",
    "            d, tm = date_time(tds[0])\n",
    "            launch_dict['Date'].append(d.strip(','))\n",
    "            launch_dict['Time'].append(tm)\n",
    "\n",
    "            # Version Booster\n",
    "            bv = booster_version(tds[1])\n",
    "            if not bv:\n",
    "                bv = tds[1].get_text(\" \", strip=True)\n",
    "            launch_dict['Version Booster'].append(bv)\n",
    "\n",
    "            # Launch site\n",
    "            ls = tds[2].get_text(\" \", strip=True)\n",
    "            launch_dict['Launch site'].append(ls)\n",
    "\n",
    "            # Payload\n",
    "            payload = tds[3].get_text(\" \", strip=True)\n",
    "            launch_dict['Payload'].append(payload)\n",
    "\n",
    "            # Payload mass (string; we'll convert to numeric later)\n",
    "            pm = get_mass(tds[4])\n",
    "            launch_dict['Payload mass'].append(pm if pm else None)\n",
    "\n",
    "            # Orbit\n",
    "            orbit = tds[5].get_text(\" \", strip=True)\n",
    "            launch_dict['Orbit'].append(orbit)\n",
    "\n",
    "            # Customer\n",
    "            customer = tds[6].get_text(\" \", strip=True)\n",
    "            launch_dict['Customer'].append(customer)\n",
    "\n",
    "            # Launch outcome\n",
    "            launch_outcome = tds[7].get_text(\" \", strip=True)\n",
    "            launch_dict['Launch outcome'].append(launch_outcome)\n",
    "\n",
    "            # Booster landing\n",
    "            booster_landing = tds[8].get_text(\" \", strip=True)\n",
    "            launch_dict['Booster landing'].append(booster_landing)\n",
    "\n",
    "print(\"Rows extracted:\", extracted_row)\n"
   ]
  },
  {
   "cell_type": "markdown",
   "metadata": {},
   "source": [
    "Next, we just need to fill up the `launch_dict` with launch records extracted from table rows.\n"
   ]
  },
  {
   "cell_type": "markdown",
   "metadata": {},
   "source": [
    "Usually, HTML tables in Wiki pages are likely to contain unexpected annotations and other types of noises, such as reference links `B0004.1[8]`, missing values `N/A [e]`, inconsistent formatting, etc.\n"
   ]
  },
  {
   "cell_type": "markdown",
   "metadata": {},
   "source": [
    "To simplify the parsing process, we have provided an incomplete code snippet below to help you to fill up the `launch_dict`. Please complete the following code snippet with TODOs or you can choose to write your own logic to parse all launch tables:\n"
   ]
  },
  {
   "cell_type": "code",
   "execution_count": 65,
   "metadata": {
    "tags": []
   },
   "outputs": [
    {
     "name": "stdout",
     "output_type": "stream",
     "text": [
      "F9 v1.0 B0003.1\n",
      "F9 v1.0 B0004.1\n",
      "F9 v1.0 B0005.1\n",
      "F9 v1.0 B0006.1\n",
      "F9 v1.0 B0007.1\n",
      "F9 v1.1 B1003\n",
      "F9 v1.1 B1004\n",
      "F9 v1.1\n",
      "F9 v1.1\n",
      "F9 v1.1\n",
      "F9 v1.1\n",
      "F9 v1.1 B1011\n",
      "F9 v1.1 B1010\n",
      "F9 v1.1 B1012\n",
      "F9 v1.1 B1013\n",
      "F9 v1.1 B1014\n",
      "F9 v1.1 B1015\n",
      "F9 v1.1 B1016\n",
      "F9 v1.1 B1018\n",
      "F9 FT B1019.1\n",
      "F9 v1.1 B1017\n",
      "F9 FT B1020.1\n",
      "F9 FT B1021.1\n",
      "F9 FT B1022.1\n",
      "F9 FT B1023.1\n",
      "F9 FT B1024.1\n",
      "F9 FT B1025.1\n",
      "F9 FT B1026.1\n",
      "F9 FT B1029.1\n",
      "F9 FT B1031.1\n",
      "F9 FT B1030.1\n",
      "F9 FT ♺ B1021.2\n",
      "F9 FT B1032.1\n",
      "F9 FT B1034.1\n",
      "F9 FT B1035.1\n",
      "F9 FT ♺ B1029.2\n",
      "F9 FT B1036.1\n",
      "F9 FT B1037.1\n",
      "F9 B4 B1039.1\n",
      "F9 FT B1038.1\n",
      "F9 B4 B1040.1\n",
      "F9 B4 B1041.1\n",
      "F9 FT ♺ B1031.2\n",
      "F9 B4 B1042.1\n",
      "F9 FT ♺ B1035.2\n",
      "F9 FT ♺ B1036.2\n",
      "F9 B4 B1043.1\n",
      "F9 FT ♺ B1032.2\n",
      "F9 FT ♺ B1038.2\n",
      "F9 B4 B1044.1\n",
      "F9 B4 ♺ B1041.2\n",
      "F9 B4 ♺ B1039.2\n",
      "F9 B4 B1045.1\n",
      "F9 B5 B1046.1\n",
      "F9 B4 ♺ B1043.2\n",
      "F9 B4 ♺ B1040.2\n",
      "F9 B4 ♺ B1045.2\n",
      "F9 B5 B1047.1\n",
      "F9 B5 B1048 .1\n",
      "F9 B5 ♺ B1046.2\n",
      "F9 B5 B1049.1\n",
      "F9 B5 ♺ B1048.2\n",
      "F9 B5 ♺ B1047.2\n",
      "F9 B5 ♺ B1046.3 SHERPA\n",
      "F9 B5 B1050\n",
      "F9 B5 B1054\n",
      "F9 B5 ♺ B1049.2\n",
      "F9 B5 ♺ B1048.3\n",
      "F9 B5 B1051.1\n",
      "F9 B5 B1056.1\n",
      "F9 B5 ♺ B1049.3\n",
      "F9 B5 ♺ B1051.2\n",
      "F9 B5 ♺ B1056.2\n",
      "F9 B5 ♺ B1047.3\n",
      "F9 B5 ♺ B1048.4\n",
      "F9 B5 B1059.1\n",
      "F9 B5 ♺ B1056.3\n",
      "F9 B5 ♺ B1049.4\n",
      "F9 B5 ♺ B1046.4\n",
      "F9 B5 ♺ B1051.3\n",
      "F9 B5 ♺ B1056.4\n",
      "F9 B5 ♺ B1059.2\n",
      "F9 B5 ♺ B1048.5\n",
      "F9 B5 ♺ B1051.4\n",
      "F9 B5 B1058.1\n",
      "F9 B5 ♺ B1049.5\n",
      "F9 B5 ♺ B1059.3\n",
      "F9 B5 B1060.1\n",
      "F9 B5 ♺ B1058.2\n",
      "F9 B5 ♺ B1051.5\n",
      "F9 B5 ♺ B1049.6\n",
      "F9 B5 ♺ B1059.4\n",
      "F9 B5 ♺ B1060.2\n",
      "F9 B5 ♺ B1058.3\n",
      "F9 B5 ♺ B1051.6\n",
      "F9 B5 ♺ B1060.3\n",
      "F9 B5 B1062.1\n",
      "F9 B5 B1061.1\n",
      "F9 B5 B1063.1\n",
      "F9 B5 ♺ B1049.7\n",
      "F9 B5 ♺ B1058.4\n",
      "F9 B5 ♺ B1051.7\n",
      "F9 B5 ♺ B1059.5\n",
      "F9 B5 ♺ B1060.4\n",
      "F9 B5 ♺ B1051.8\n",
      "F9 B5 ♺ B1058.5\n"
     ]
    },
    {
     "ename": "AttributeError",
     "evalue": "'NoneType' object has no attribute 'string'",
     "output_type": "error",
     "traceback": [
      "\u001b[0;31m---------------------------------------------------------------------------\u001b[0m",
      "\u001b[0;31mAttributeError\u001b[0m                            Traceback (most recent call last)",
      "\u001b[0;32m/tmp/ipykernel_68/380610512.py\u001b[0m in \u001b[0;36m<module>\u001b[0;34m\u001b[0m\n\u001b[1;32m     60\u001b[0m             \u001b[0;31m# Customer\u001b[0m\u001b[0;34m\u001b[0m\u001b[0;34m\u001b[0m\u001b[0;34m\u001b[0m\u001b[0m\n\u001b[1;32m     61\u001b[0m             \u001b[0;31m# TODO: Append the customer into launch_dict with key `Customer`\u001b[0m\u001b[0;34m\u001b[0m\u001b[0;34m\u001b[0m\u001b[0;34m\u001b[0m\u001b[0m\n\u001b[0;32m---> 62\u001b[0;31m             \u001b[0mcustomer\u001b[0m \u001b[0;34m=\u001b[0m \u001b[0mrow\u001b[0m\u001b[0;34m[\u001b[0m\u001b[0;36m6\u001b[0m\u001b[0;34m]\u001b[0m\u001b[0;34m.\u001b[0m\u001b[0ma\u001b[0m\u001b[0;34m.\u001b[0m\u001b[0mstring\u001b[0m\u001b[0;34m\u001b[0m\u001b[0;34m\u001b[0m\u001b[0m\n\u001b[0m\u001b[1;32m     63\u001b[0m             \u001b[0;31m#print(customer)\u001b[0m\u001b[0;34m\u001b[0m\u001b[0;34m\u001b[0m\u001b[0;34m\u001b[0m\u001b[0m\n\u001b[1;32m     64\u001b[0m \u001b[0;34m\u001b[0m\u001b[0m\n",
      "\u001b[0;31mAttributeError\u001b[0m: 'NoneType' object has no attribute 'string'"
     ]
    }
   ],
   "source": [
    "extracted_row = 0\n",
    "#Extract each table \n",
    "for table_number,table in enumerate(soup.find_all('table',\"wikitable plainrowheaders collapsible\")):\n",
    "   # get table row \n",
    "    for rows in table.find_all(\"tr\"):\n",
    "        #check to see if first table heading is as number corresponding to launch a number \n",
    "        if rows.th:\n",
    "            if rows.th.string:\n",
    "                flight_number=rows.th.string.strip()\n",
    "                flag=flight_number.isdigit()\n",
    "        else:\n",
    "            flag=False\n",
    "        #get table element \n",
    "        row=rows.find_all('td')\n",
    "        #if it is number save cells in a dictonary \n",
    "        if flag:\n",
    "            extracted_row += 1\n",
    "            # Flight Number value\n",
    "            # TODO: Append the flight_number into launch_dict with key `Flight No.`\n",
    "            #print(flight_number)\n",
    "            datatimelist=date_time(row[0])\n",
    "            \n",
    "            # Date value\n",
    "            # TODO: Append the date into launch_dict with key `Date`\n",
    "            date = datatimelist[0].strip(',')\n",
    "            #print(date)\n",
    "            \n",
    "            # Time value\n",
    "            # TODO: Append the time into launch_dict with key `Time`\n",
    "            time = datatimelist[1]\n",
    "            #print(time)\n",
    "              \n",
    "            # Booster version\n",
    "            # TODO: Append the bv into launch_dict with key `Version Booster`\n",
    "            bv=booster_version(row[1])\n",
    "            if not(bv):\n",
    "                bv=row[1].a.string\n",
    "            print(bv)\n",
    "            \n",
    "            # Launch Site\n",
    "            # TODO: Append the bv into launch_dict with key `Launch Site`\n",
    "            launch_site = row[2].a.string\n",
    "            #print(launch_site)\n",
    "            \n",
    "            # Payload\n",
    "            # TODO: Append the payload into launch_dict with key `Payload`\n",
    "            payload = row[3].a.string\n",
    "            #print(payload)\n",
    "            \n",
    "            # Payload Mass\n",
    "            # TODO: Append the payload_mass into launch_dict with key `Payload mass`\n",
    "            payload_mass = get_mass(row[4])\n",
    "            #print(payload)\n",
    "            \n",
    "            # Orbit\n",
    "            # TODO: Append the orbit into launch_dict with key `Orbit`\n",
    "            orbit = row[5].a.string\n",
    "            #print(orbit)\n",
    "            \n",
    "            # Customer\n",
    "            # TODO: Append the customer into launch_dict with key `Customer`\n",
    "            customer = row[6].a.string\n",
    "            #print(customer)\n",
    "            \n",
    "            # Launch outcome\n",
    "            # TODO: Append the launch_outcome into launch_dict with key `Launch outcome`\n",
    "            launch_outcome = list(row[7].strings)[0]\n",
    "            #print(launch_outcome)\n",
    "            \n",
    "            # Booster landing\n",
    "            # TODO: Append the launch_outcome into launch_dict with key `Booster landing`\n",
    "            booster_landing = landing_status(row[8])\n",
    "            #print(booster_landing)\n",
    "            \n",
    "            df = pd.DataFrame(launch_dict)\n",
    "\n",
    "# Convert payload mass to numeric (kg)\n",
    "df['Payload mass'] = pd.to_numeric(df['Payload mass'], errors='coerce')\n",
    "\n",
    "# How many missing before filling?\n",
    "missing_before = df['Payload mass'].isna().sum()\n",
    "print(\"Missing payload mass before fill:\", missing_before)\n",
    "\n",
    "# Fill missing payload mass with mean (if any)\n",
    "mean_mass = df['Payload mass'].mean()\n",
    "df['Payload mass'].fillna(mean_mass, inplace=True)\n",
    "\n",
    "missing_after = df['Payload mass'].isna().sum()\n",
    "print(\"Missing payload mass after fill:\", missing_after)\n",
    "\n",
    "# Basic checks\n",
    "print(\"DataFrame shape:\", df.shape)\n",
    "print(df.head(8))\n",
    "\n",
    "# Export to CSV for later labs\n",
    "df.to_csv('spacex_web_scraped.csv', index=False)\n",
    "print(\"Saved spacex_web_scraped.csv\")\n",
    "\n",
    "            "
   ]
  },
  {
   "cell_type": "markdown",
   "metadata": {},
   "source": [
    "After you have fill in the parsed launch record values into `launch_dict`, you can create a dataframe from it.\n"
   ]
  },
  {
   "cell_type": "code",
   "execution_count": 67,
   "metadata": {
    "tags": []
   },
   "outputs": [
    {
     "name": "stdout",
     "output_type": "stream",
     "text": [
      "Title: List of Falcon 9 and Falcon Heavy launches - Wikipedia\n",
      "Columns: ['Flight No.', 'Launch site', 'Payload', 'Payload mass', 'Orbit', 'Customer', 'Launch outcome', 'Version Booster', 'Booster landing', 'Date', 'Time']\n",
      "Total launches parsed: 121\n",
      "Success (drone ship)                53\n",
      "Success (ground pad)                14\n",
      "Failure (drone ship)                 6\n",
      "No attempt [ 165 ]                   6\n",
      "No attempt                           5\n",
      "Controlled (ocean) [ d ] [ 46 ]      2\n",
      "Failure [ 383 ] (ground pad)         1\n",
      "Success [ 315 ] (drone ship)         1\n",
      "Controlled (ocean) [ d ] [ 248 ]     1\n",
      "No attempt [ 271 ]                   1\n",
      "Name: Booster landing, dtype: int64\n"
     ]
    }
   ],
   "source": [
    "df= pd.DataFrame({ key:pd.Series(value) for key, value in launch_dict.items() })\n",
    "# 1) Title check (we did earlier)\n",
    "print(\"Title:\", soup.title.string.strip())\n",
    "\n",
    "# 2) column names\n",
    "print(\"Columns:\", df.columns.tolist())\n",
    "\n",
    "# 3) counts\n",
    "print(\"Total launches parsed:\", len(df))\n",
    "\n",
    "# 4) sample landing column values distribution\n",
    "print(df['Booster landing'].value_counts().head(10))\n"
   ]
  },
  {
   "cell_type": "markdown",
   "metadata": {},
   "source": [
    "We can now export it to a <b>CSV</b> for the next section, but to make the answers consistent and in case you have difficulties finishing this lab. \n",
    "\n",
    "Following labs will be using a provided dataset to make each lab independent. \n"
   ]
  },
  {
   "cell_type": "markdown",
   "metadata": {},
   "source": [
    "<code>df.to_csv('spacex_web_scraped.csv', index=False)</code>\n"
   ]
  },
  {
   "cell_type": "markdown",
   "metadata": {},
   "source": [
    "## Authors\n"
   ]
  },
  {
   "cell_type": "markdown",
   "metadata": {},
   "source": [
    "<a href=\"https://www.linkedin.com/in/yan-luo-96288783/\">Yan Luo</a>\n"
   ]
  },
  {
   "cell_type": "markdown",
   "metadata": {},
   "source": [
    "<a href=\"https://www.linkedin.com/in/nayefaboutayoun/\">Nayef Abou Tayoun</a>\n"
   ]
  },
  {
   "cell_type": "markdown",
   "metadata": {},
   "source": [
    "<!--\n",
    "## Change Log\n",
    "-->\n"
   ]
  },
  {
   "cell_type": "markdown",
   "metadata": {},
   "source": [
    "<!--\n",
    "| Date (YYYY-MM-DD) | Version | Changed By | Change Description      |\n",
    "| ----------------- | ------- | ---------- | ----------------------- |\n",
    "| 2021-06-09        | 1.0     | Yan Luo    | Tasks updates           |\n",
    "| 2020-11-10        | 1.0     | Nayef      | Created the initial version |\n",
    "-->\n"
   ]
  },
  {
   "cell_type": "markdown",
   "metadata": {},
   "source": [
    "Copyright © 2021 IBM Corporation. All rights reserved.\n"
   ]
  }
 ],
 "metadata": {
  "kernelspec": {
   "display_name": "Python",
   "language": "python",
   "name": "conda-env-python-py"
  },
  "language_info": {
   "codemirror_mode": {
    "name": "ipython",
    "version": 3
   },
   "file_extension": ".py",
   "mimetype": "text/x-python",
   "name": "python",
   "nbconvert_exporter": "python",
   "pygments_lexer": "ipython3",
   "version": "3.7.12"
  },
  "prev_pub_hash": "935d3177ae0c3f2ed2083cb1927c99bbd0b33214dfff8dadb45ee7d62f8f3b99"
 },
 "nbformat": 4,
 "nbformat_minor": 4
}
